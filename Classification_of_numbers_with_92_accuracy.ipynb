{
  "nbformat": 4,
  "nbformat_minor": 0,
  "metadata": {
    "colab": {
      "provenance": [],
      "collapsed_sections": [
        "nrZ8ZvJtUsi-",
        "NrieOdL2WU7m",
        "H8JNiAWDZKlL",
        "wsucgHJiaYW1",
        "ZgEfnGIqaONj",
        "S6eKQ2aQz5uv"
      ]
    },
    "kernelspec": {
      "name": "python3",
      "display_name": "Python 3"
    },
    "language_info": {
      "name": "python"
    }
  },
  "cells": [
    {
      "cell_type": "code",
      "execution_count": null,
      "metadata": {
        "colab": {
          "base_uri": "https://localhost:8080/"
        },
        "id": "uBdnjKfsTyhG",
        "outputId": "369d0998-a368-4624-f7b4-527f07e56ab4"
      },
      "outputs": [
        {
          "output_type": "stream",
          "name": "stdout",
          "text": [
            "Mounted at /content/drive\n"
          ]
        }
      ],
      "source": [
        "import pandas as pd\n",
        "import numpy as np\n",
        "import matplotlib.pyplot as plt\n",
        "from google.colab import drive\n",
        "import scipy.optimize as opt\n",
        "from PIL import Image\n",
        "import gzip\n",
        "import struct\n",
        "\n",
        "\n",
        "drive.mount(\"/content/drive\", force_remount=True)"
      ]
    },
    {
      "cell_type": "markdown",
      "source": [
        "# Functions"
      ],
      "metadata": {
        "id": "nrZ8ZvJtUsi-"
      }
    },
    {
      "cell_type": "code",
      "source": [
        "'''\n",
        "I use this function to read images from the MNIST dataset.\n",
        "This file represents 28x28 pixel images, which means we have 784 features for the model.\n",
        "We can extract features using a filter matrix, for example, but I haven't applied that here.\n",
        "'''\n",
        "def read_images(filename: str) -> np.array:\n",
        "    with open(filename, 'rb') as f:\n",
        "        magic, num_images, rows, cols = struct.unpack(\">IIII\", f.read(16))\n",
        "        image_data = f.read()\n",
        "\n",
        "\n",
        "        images = np.frombuffer(image_data, dtype=np.uint8)\n",
        "        images = images.reshape(num_images, rows, cols)\n",
        "\n",
        "        return images"
      ],
      "metadata": {
        "id": "GkGnAhrNUuFp"
      },
      "execution_count": null,
      "outputs": []
    },
    {
      "cell_type": "code",
      "source": [
        "'''\n",
        "I use this function to read labels from the MNIST dataset.\n",
        "We need it because we are using a classification model, which means supervised learning.\n",
        "So, these labels are the correct answers for each image.\n",
        "'''\n",
        "\n",
        "def read_labels(filename: str) -> np.array:\n",
        "    with open(filename, 'rb') as f:\n",
        "        magic, num_labels = struct.unpack(\">II\", f.read(8))\n",
        "\n",
        "\n",
        "        label_data = f.read()\n",
        "        labels = np.frombuffer(label_data, dtype=np.uint8)\n",
        "        return labels"
      ],
      "metadata": {
        "id": "tiGygrymUl23"
      },
      "execution_count": null,
      "outputs": []
    },
    {
      "cell_type": "code",
      "source": [
        "'''\n",
        "I use this function only with 1 purpose. This function helps me to determine \"problem\" numbers\n",
        "\"problem\" means we have example of number on the border of solution\n",
        "'''\n",
        "def draw_image(image: np.array) -> None:\n",
        "    plt.imshow(image, cmap='gray')\n",
        "    plt.axis('off')\n",
        "    plt.show()"
      ],
      "metadata": {
        "id": "Qx7D_UOeX8h0"
      },
      "execution_count": null,
      "outputs": []
    },
    {
      "cell_type": "code",
      "source": [
        "'''\n",
        "It's important to emphasize that the data is being normalized\n",
        "to bring all features to the same scale.\n",
        "This ensures that each feature contributes equally to the model training process,\n",
        "preventing features with larger magnitudes from dominating the optimization algorithm.\n",
        "\n",
        "I've implemented min max normalize function, to scale all data from 0 to 1.\n",
        "You can read more about it here: https://en.wikipedia.org/wiki/Normalization_(statistics)\n",
        "'''\n",
        "\n",
        "def normalize(X: np.array) -> np.array:\n",
        "    return (X - X.min()) / (X.max() - X.min())"
      ],
      "metadata": {
        "id": "PfMY1vr9fCVb"
      },
      "execution_count": null,
      "outputs": []
    },
    {
      "cell_type": "code",
      "source": [
        "'''\n",
        "I use this function to convert the output from scalar multiplication to probabilities.\n",
        "In neural networks, this is called an activation function.\n",
        "For more easiest implementation, you can use softmax function instead of sigmoid,\n",
        "which is better suited for multiclass classification.\n",
        "However, according to the plan,\n",
        "I am implementing it using sigmoid through multiple classifiers.\n",
        "'''\n",
        "def sigmoid(z: np.array) -> np.array:\n",
        "    return 1 / (1 + np.exp(-z))"
      ],
      "metadata": {
        "id": "oh3ZNYRNwVjT"
      },
      "execution_count": null,
      "outputs": []
    },
    {
      "cell_type": "code",
      "source": [
        "def objective_function(theta: np.array, X: np.array, y: np.array) -> float:\n",
        "    theta = np.matrix(theta).T\n",
        "    p = sigmoid(X * theta)\n",
        "    function_value = -(y.T * np.log(p) + (1 - y).T * np.log(1 - p)) / y.size\n",
        "    return function_value[0, 0]"
      ],
      "metadata": {
        "id": "s2V2_UGJzHVT"
      },
      "execution_count": null,
      "outputs": []
    },
    {
      "cell_type": "code",
      "source": [
        "def gradient_descent(theta: np.array, X: np.array, y: np.array) -> np.array:\n",
        "    theta = np.matrix(theta).T\n",
        "    hThetaX = sigmoid(X * theta)\n",
        "\n",
        "    gradient = ((hThetaX - y).T * X) / len(y)\n",
        "\n",
        "    return gradient.T"
      ],
      "metadata": {
        "id": "i9NSRuV498zs"
      },
      "execution_count": null,
      "outputs": []
    },
    {
      "cell_type": "code",
      "source": [
        "def objective_function_regular(theta: np.array, X: np.array, y: np.array, lam: float) -> float:\n",
        "    value = objective_function(theta, X, y)\n",
        "    value += lam * np.sum(theta[1:]**2) / (2 * len(y))\n",
        "    return value"
      ],
      "metadata": {
        "id": "bpZ9sM5Q-GjZ"
      },
      "execution_count": null,
      "outputs": []
    },
    {
      "cell_type": "code",
      "source": [
        "def gradient_descent_regular(theta: np.array, X: np.array, y: np.array, lam: float) -> float:\n",
        "    grad = gradient_descent(theta, X, y)\n",
        "    grad += (np.insert(theta[1:], 0, 0) * lam / len(y)).reshape(-1, 1)\n",
        "\n",
        "    return grad"
      ],
      "metadata": {
        "id": "Tt4ddeC4-Uyc"
      },
      "execution_count": null,
      "outputs": []
    },
    {
      "cell_type": "code",
      "source": [
        "def guess_number(thetas, path):\n",
        "    image = Image.open(path)\n",
        "    image = image.convert('L')\n",
        "    plt.imshow(image, cmap='gray', interpolation='none')\n",
        "    plt.show()\n",
        "\n",
        "    temp_image = np.matrix(image).reshape(784, 1).T\n",
        "    temp_image = np.insert(temp_image, 0, 1, axis=1)\n",
        "    temp_image = normalize(temp_image)\n",
        "\n",
        "\n",
        "    all_predictions = []\n",
        "\n",
        "\n",
        "    for theta in thetas:\n",
        "        numbers = temp_image * theta.T\n",
        "        possibility = sigmoid(numbers)\n",
        "        pred_class = possibility.argmax()\n",
        "        all_predictions.append(pred_class)\n",
        "\n",
        "    final_prediction = np.bincount(all_predictions).argmax()\n",
        "\n",
        "    print(f\"This number is {final_prediction}\")\n"
      ],
      "metadata": {
        "id": "iMOf3a6AdVPB"
      },
      "execution_count": null,
      "outputs": []
    },
    {
      "cell_type": "markdown",
      "source": [
        "# Data Preparing"
      ],
      "metadata": {
        "id": "NrieOdL2WU7m"
      }
    },
    {
      "cell_type": "code",
      "source": [
        "sub_path = '/content/drive/My Drive/DataSets/'\n",
        "\n",
        "train_images = read_images(sub_path + 'train-images.idx3-ubyte')\n",
        "train_labels = read_labels(sub_path + 'train-labels.idx1-ubyte')\n",
        "\n",
        "test_images = read_images(sub_path + 't10k-images.idx3-ubyte')\n",
        "test_labels = read_labels(sub_path + 't10k-labels.idx1-ubyte')\n",
        "\n",
        "'''\n",
        "It is important to look the shapes of these matrices\n",
        "because I will use logistic regression and build 10 classifiers.\n",
        "For matrix multiplication, certain conditions must be met regarding the dimensions of the matrices.\n",
        "You can read about it here: https://en.wikipedia.org/wiki/Matrix_(mathematics)\n",
        "'''\n",
        "\n",
        "print(f\"Train images shape: {train_images.shape}\")\n",
        "print(f\"Train labels shape: {train_labels.shape}\")\n",
        "print(f\"Test images shape: {test_images.shape}\")\n",
        "print(f\"Test labels shape: {test_labels.shape}\")\n",
        "\n"
      ],
      "metadata": {
        "colab": {
          "base_uri": "https://localhost:8080/"
        },
        "id": "bK4NwQGPWX9s",
        "outputId": "afeb4879-04f4-48bb-9718-f709d9eb3353"
      },
      "execution_count": null,
      "outputs": [
        {
          "output_type": "stream",
          "name": "stdout",
          "text": [
            "Train images shape: (60000, 28, 28)\n",
            "Train labels shape: (60000,)\n",
            "Test images shape: (10000, 28, 28)\n",
            "Test labels shape: (10000,)\n"
          ]
        }
      ]
    },
    {
      "cell_type": "markdown",
      "source": [
        "## Several examples of images and labels"
      ],
      "metadata": {
        "id": "H8JNiAWDZKlL"
      }
    },
    {
      "cell_type": "code",
      "source": [
        "numbers = [0, 55, 99, 178, 1098, 56009]\n",
        "\n",
        "for i in numbers:\n",
        "  draw_image(train_images[i])\n",
        "  print(train_labels[i])"
      ],
      "metadata": {
        "colab": {
          "base_uri": "https://localhost:8080/",
          "height": 1000
        },
        "id": "lKBwk1TqXL5j",
        "outputId": "422f1202-1fe6-441b-f226-86482eb4b0e9"
      },
      "execution_count": null,
      "outputs": [
        {
          "output_type": "display_data",
          "data": {
            "text/plain": [
              "<Figure size 640x480 with 1 Axes>"
            ],
            "image/png": "[encoded data removed]"
          },
          "metadata": {}
        },
        {
          "output_type": "stream",
          "name": "stdout",
          "text": [
            "5\n"
          ]
        },
        {
          "output_type": "display_data",
          "data": {
            "text/plain": [
              "<Figure size 640x480 with 1 Axes>"
            ],
            "image/png": "[encoded data removed]"
          },
          "metadata": {}
        },
        {
          "output_type": "stream",
          "name": "stdout",
          "text": [
            "8\n"
          ]
        },
        {
          "output_type": "display_data",
          "data": {
            "text/plain": [
              "<Figure size 640x480 with 1 Axes>"
            ],
            "image/png": "[encoded data removed]"
          },
          "metadata": {}
        },
        {
          "output_type": "stream",
          "name": "stdout",
          "text": [
            "1\n"
          ]
        },
        {
          "output_type": "display_data",
          "data": {
            "text/plain": [
              "<Figure size 640x480 with 1 Axes>"
            ],
            "image/png": "[encoded data removed]"
          },
          "metadata": {}
        },
        {
          "output_type": "stream",
          "name": "stdout",
          "text": [
            "2\n"
          ]
        },
        {
          "output_type": "display_data",
          "data": {
            "text/plain": [
              "<Figure size 640x480 with 1 Axes>"
            ],
            "image/png": "[encoded data removed]"
          },
          "metadata": {}
        },
        {
          "output_type": "stream",
          "name": "stdout",
          "text": [
            "4\n"
          ]
        },
        {
          "output_type": "display_data",
          "data": {
            "text/plain": [
              "<Figure size 640x480 with 1 Axes>"
            ],
            "image/png": "[encoded data removed]"
          },
          "metadata": {}
        },
        {
          "output_type": "stream",
          "name": "stdout",
          "text": [
            "2\n"
          ]
        }
      ]
    },
    {
      "cell_type": "markdown",
      "source": [
        "## Creating matrices of features, a vector of labels, and matrices of weights"
      ],
      "metadata": {
        "id": "wsucgHJiaYW1"
      }
    },
    {
      "cell_type": "code",
      "source": [
        "train_images = train_images.reshape(60000, 784)\n",
        "test_images = test_images.reshape(10000, 784)\n",
        "'''\n",
        "It's important to emphasize that the data is being normalized.\n",
        "You can read more about it in Function section\n",
        "'''\n",
        "train_images = normalize(train_images)\n",
        "test_images = normalize(test_images)"
      ],
      "metadata": {
        "id": "NSmsMbpVdZLz"
      },
      "execution_count": null,
      "outputs": []
    },
    {
      "cell_type": "code",
      "source": [
        "train_images[0]"
      ],
      "metadata": {
        "id": "kWtron-nd9GJ"
      },
      "execution_count": null,
      "outputs": []
    },
    {
      "cell_type": "code",
      "source": [
        "X_train = np.matrix(train_images)\n",
        "X_train = np.hstack((np.ones((X_train.shape[0], 1)), X_train))\n",
        "\n",
        "\n",
        "y_train = np.matrix(train_labels)\n",
        "theta = np.zeros((10, X_train.shape[1]))"
      ],
      "metadata": {
        "id": "Ig_IS_DdaV6g"
      },
      "execution_count": null,
      "outputs": []
    },
    {
      "cell_type": "code",
      "source": [
        "print(X_train.shape)\n",
        "print(y_train.shape)\n",
        "print(theta.shape)"
      ],
      "metadata": {
        "colab": {
          "base_uri": "https://localhost:8080/"
        },
        "id": "EaL1SlYObVOg",
        "outputId": "97663083-1205-4792-f436-f27ff2938a4c"
      },
      "execution_count": null,
      "outputs": [
        {
          "output_type": "stream",
          "name": "stdout",
          "text": [
            "(60000, 785)\n",
            "(1, 60000)\n",
            "(10, 785)\n"
          ]
        }
      ]
    },
    {
      "cell_type": "code",
      "source": [
        "draw_image(X_train[0, 1:].reshape(28, 28))"
      ],
      "metadata": {
        "colab": {
          "base_uri": "https://localhost:8080/",
          "height": 406
        },
        "id": "LW66J70Ug9Xa",
        "outputId": "e881a9a5-6f12-42a5-e8a0-81ececfd32af"
      },
      "execution_count": null,
      "outputs": [
        {
          "output_type": "display_data",
          "data": {
            "text/plain": [
              "<Figure size 640x480 with 1 Axes>"
            ],
            "image/png": "[encoded data removed]"
          },
          "metadata": {}
        }
      ]
    },
    {
      "cell_type": "markdown",
      "source": [
        "# Teaching"
      ],
      "metadata": {
        "id": "bRZpnVl8_XVS"
      }
    },
    {
      "cell_type": "code",
      "source": [
        "X_train = np.matrix(train_images)\n",
        "X_train = np.hstack((np.ones((X_train.shape[0], 1)), X_train))\n",
        "\n",
        "\n",
        "y_train = np.matrix(train_labels)"
      ],
      "metadata": {
        "id": "-Et8xvSjgMwH"
      },
      "execution_count": null,
      "outputs": []
    },
    {
      "cell_type": "code",
      "source": [
        "X_test = np.matrix(test_images)\n",
        "X_test = np.hstack((np.ones((X_test.shape[0], 1)), X_test))\n",
        "\n",
        "\n",
        "y_test = np.matrix(test_labels)"
      ],
      "metadata": {
        "id": "NZONYH_6gP3W"
      },
      "execution_count": null,
      "outputs": []
    },
    {
      "cell_type": "code",
      "source": [
        "lambdas = [0.01, 0.1, 0.5, 1, 10, 100]\n",
        "best_lambda = None\n",
        "best_accuracy = 0\n",
        "\n",
        "thetas = []\n",
        "\n",
        "for lam in lambdas:\n",
        "    theta = np.zeros((10, X_train.shape[1]))\n",
        "    for i in range(10):\n",
        "        yi_train = (y_train == i)\n",
        "        theta_optimized = opt.fmin_tnc(func=objective_function_regular, x0=theta[i], fprime=gradient_descent_regular, args=(X_train, yi_train.T, lam))\n",
        "        theta[i] = theta_optimized[0]\n",
        "\n",
        "    print(lam)\n",
        "\n",
        "    thetas.append(theta)\n",
        "\n",
        "print(len(thetas))"
      ],
      "metadata": {
        "id": "1F4Xrn-Q_fss"
      },
      "execution_count": null,
      "outputs": []
    },
    {
      "cell_type": "code",
      "source": [
        "all_predictions = np.zeros((len(thetas), X_test.shape[0]))\n",
        "\n",
        "for idx, theta in enumerate(thetas):\n",
        "    predictions = np.array(sigmoid(np.dot(X_test, theta.T)))\n",
        "    predictions = np.argmax(predictions, axis=1)\n",
        "\n",
        "    all_predictions[idx] = predictions\n",
        "\n",
        "ensemble_predictions = [np.bincount(all_predictions[:, i].astype(int)).argmax() for i in range(X_test.shape[0])]\n",
        "\n",
        "ensemble_predictions = np.array(ensemble_predictions)\n",
        "\n",
        "ensemble_accuracy = np.mean(ensemble_predictions == y_test) * 100\n",
        "\n",
        "print(ensemble_predictions)\n"
      ],
      "metadata": {
        "colab": {
          "base_uri": "https://localhost:8080/"
        },
        "id": "hoNvWeIL-Hzr",
        "outputId": "78efdb52-2304-4351-a88a-606ee9e4bce2"
      },
      "execution_count": null,
      "outputs": [
        {
          "output_type": "stream",
          "name": "stdout",
          "text": [
            "[7 2 1 ... 4 5 6]\n"
          ]
        }
      ]
    },
    {
      "cell_type": "markdown",
      "source": [
        "# Checking model accuracy"
      ],
      "metadata": {
        "id": "ZgEfnGIqaONj"
      }
    },
    {
      "cell_type": "code",
      "source": [
        "values = np.array(sigmoid(np.dot(X_train, theta.T)))\n",
        "pred_classes = np.argmax(values, axis=1)"
      ],
      "metadata": {
        "id": "qOsQ2nmKbU3U"
      },
      "execution_count": null,
      "outputs": []
    },
    {
      "cell_type": "code",
      "source": [
        "accuracy = np.mean(pred_classes == y_train) * 100\n",
        "print(accuracy)"
      ],
      "metadata": {
        "colab": {
          "base_uri": "https://localhost:8080/"
        },
        "id": "I-1UNoxcbbhj",
        "outputId": "f7cc16a2-1d29-48a3-ecc3-3b798e7dfe00"
      },
      "execution_count": null,
      "outputs": [
        {
          "output_type": "stream",
          "name": "stdout",
          "text": [
            "93.03166666666667\n"
          ]
        }
      ]
    },
    {
      "cell_type": "code",
      "source": [
        "values = np.array(sigmoid(np.dot(X_test, theta.T)))\n",
        "pred_classes = np.argmax(values, axis=1)"
      ],
      "metadata": {
        "id": "li4ptVR6aW9Y"
      },
      "execution_count": null,
      "outputs": []
    },
    {
      "cell_type": "code",
      "source": [
        "accuracy = np.mean(pred_classes == y_test) * 100\n",
        "print(accuracy)"
      ],
      "metadata": {
        "colab": {
          "base_uri": "https://localhost:8080/"
        },
        "id": "gcYILBMmaZBe",
        "outputId": "776b54a1-4525-493c-d1cf-c27c321b7c92"
      },
      "execution_count": null,
      "outputs": [
        {
          "output_type": "stream",
          "name": "stdout",
          "text": [
            "91.96\n"
          ]
        }
      ]
    },
    {
      "cell_type": "markdown",
      "source": [
        "# Result"
      ],
      "metadata": {
        "id": "toVE7OSsd7ux"
      }
    },
    {
      "cell_type": "code",
      "source": [
        "numbers = [\"zero\", \"one\", \"two\", \"three\", \"four\", \"five\", \"six\", \"seven\", \"eight\", \"nine\"]\n",
        "\n",
        "for num in numbers:\n",
        "    guess_number(thetas=thetas, path=f'/content/drive/My Drive/DataSets/numbers/{num}.png')"
      ],
      "metadata": {
        "id": "6aslWDBcdZ3y"
      },
      "execution_count": null,
      "outputs": []
    }
  ]
}